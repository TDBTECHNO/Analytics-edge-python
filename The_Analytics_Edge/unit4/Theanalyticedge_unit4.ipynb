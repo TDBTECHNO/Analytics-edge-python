{
 "cells": [
  {
   "cell_type": "code",
   "execution_count": null,
   "metadata": {},
   "outputs": [],
   "source": [
    "'''Decision trees'''\n",
    "    '''We will see to predict outcomes of cases in U.S supreme court'''\n",
    "    '''in 2002 a group of political science and law academics decided to test a model can do better then a jury members'''\n",
    "    '''prediction'''\n",
    "        '''martin used a method called classification and regression trees(CART)'''\n",
    "        '''why not logistic regression?'''\n",
    "            '''logistic regression models are interpretable'''\n",
    "            '''model coefficients indicate importance and relative effect of variables, but don't give a simple explaination on how decision is made?'''\n",
    "        "
   ]
  },
  {
   "cell_type": "code",
   "execution_count": null,
   "metadata": {},
   "outputs": [],
   "source": [
    "'''Data'''\n",
    "    '''cases from 1994 through 2001'''\n",
    "    '''we will focus on predicting Justice steven decision'''\n",
    "    '''Dependent variable'''\n",
    "        '''Did justice stevens vote to reverse the lower court decision'''\n",
    "    '''Independent varible'''\n",
    "        '''Circuit court of origin'''\n",
    "        '''Issue area of case'''\n",
    "        '''Type of petitioner, respondent'''\n",
    "        '''Ideological direction of lower court decision'''\n",
    "        '''Whether petitioner argued that a low/practice was unconstitutional'''\n",
    "    '''Logistic regression for justice stevens'''\n",
    "        '''Some significant variables and their coefficients'''\n",
    "            '''case is from 2nd circuit court:+1.66'''\n",
    "            '''case is from 4th circuit court:+2.82'''\n",
    "        '''This is complicated...'''\n",
    "            '''difficult to understand which factors are more  important'''\n",
    "            '''difficult to quickly evaluate what prediction is for a new case'''\n",
    "    '''Classification and regression trees'''\n",
    "        '''Build a tree by splitting on variables'''\n",
    "        '''To predict the outcome for an observation, follow the splits and at the end, predict most frequent outcome'''\n",
    "        '''Do not assume a linear model'''\n",
    "        '''Interpretable'''\n",
    "    '''when does CART stop splitting?'''\n",
    "        '''one way is by setting a lower bound for the number of points in each dataset'''\n",
    "    '''Prediction from CART'''\n",
    "        '''In each subset, we have a bucket of observations, which may contain both outcomes'''\n",
    "        '''Compute the percentage of data in a subset of each type'''\n",
    "        \n",
    "        \n",
    "            "
   ]
  },
  {
   "cell_type": "code",
   "execution_count": 5,
   "metadata": {},
   "outputs": [
    {
     "name": "stdout",
     "output_type": "stream",
     "text": [
      "<class 'pandas.core.frame.DataFrame'>\n",
      "RangeIndex: 566 entries, 0 to 565\n",
      "Data columns (total 9 columns):\n",
      "Docket        566 non-null object\n",
      "Term          566 non-null int64\n",
      "Circuit       566 non-null object\n",
      "Issue         566 non-null object\n",
      "Petitioner    566 non-null object\n",
      "Respondent    566 non-null object\n",
      "LowerCourt    566 non-null object\n",
      "Unconst       566 non-null int64\n",
      "Reverse       566 non-null int64\n",
      "dtypes: int64(3), object(6)\n",
      "memory usage: 39.9+ KB\n"
     ]
    }
   ],
   "source": [
    "import numpy as np\n",
    "import pandas as pd\n",
    "import statistics\n",
    "import matplotlib.pyplot as plt\n",
    "import os\n",
    "import sklearn\n",
    "from sklearn.cross_validation import train_test_split\n",
    "from sklearn.tree import DecisionTreeClassifier, export_graphviz\n",
    "stevens=pd.read_csv('./stevens.csv')\n",
    "stevens.info()\n",
    "train,test=train_test_split(stevens,train_size=0.7,random_state=88)\n",
    "stevetrain=pd.DataFrame(train,columns=stevens.columns)\n",
    "stevetest=pd.DataFrame(test, columns=stevens.columns)\n"
   ]
  },
  {
   "cell_type": "code",
   "execution_count": null,
   "metadata": {},
   "outputs": [],
   "source": []
  }
 ],
 "metadata": {
  "kernelspec": {
   "display_name": "Python 3",
   "language": "python",
   "name": "python3"
  },
  "language_info": {
   "codemirror_mode": {
    "name": "ipython",
    "version": 2
   },
   "file_extension": ".py",
   "mimetype": "text/x-python",
   "name": "python",
   "nbconvert_exporter": "python",
   "pygments_lexer": "ipython2",
   "version": "2.7.15"
  }
 },
 "nbformat": 4,
 "nbformat_minor": 2
}
